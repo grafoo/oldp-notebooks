{
 "cells": [
  {
   "cell_type": "markdown",
   "metadata": {},
   "source": [
    "# OLDP Client Demo\n",
    "\n",
    "This is a beginners level demo that shows how to use the OLDP SDK for Python, see https://github.com/openlegaldata/oldp-sdk-python.\n",
    "\n",
    "You can install the SDK by running:\n",
    "```\n",
    "pipenv install git+https://github.com/openlegaldata/oldp-sdk-python.git#egg=oldp-api\n",
    "```\n",
    "\n",
    "Let's begin with creating an instance of the API Client."
   ]
  },
  {
   "cell_type": "code",
   "execution_count": null,
   "metadata": {
    "collapsed": true
   },
   "outputs": [],
   "source": [
    "import oldp_client \n",
    "\n",
    "conf = oldp_client.Configuration()\n",
    "conf.api_key['api_key'] = '123abc'  # Replace this with your API key\n",
    "api_client = oldp_client.ApiClient(conf)"
   ]
  },
  {
   "cell_type": "markdown",
   "metadata": {},
   "source": [
    "The API endpoints are documented [here](https://github.com/openlegaldata/oldp-sdk-python#documentation-for-api-endpoints).\n",
    "\n",
    "We follow this guide to get an instance of the API for courts."
   ]
  },
  {
   "cell_type": "code",
   "execution_count": null,
   "metadata": {
    "collapsed": true
   },
   "outputs": [],
   "source": [
    "courts_api = oldp_client.CourtsApi(api_client)"
   ]
  },
  {
   "cell_type": "markdown",
   "metadata": {},
   "source": [
    "Next we show how to query the data OLDP has about courts."
   ]
  },
  {
   "cell_type": "code",
   "execution_count": null,
   "metadata": {
    "collapsed": false
   },
   "outputs": [],
   "source": [
    "courts = courts_api.courts_list().results\n",
    "print(\"The API call returned {} courts.\".format(len(courts)))\n",
    "print(\"Example court:\\n{}\".format(courts[10]))"
   ]
  },
  {
   "cell_type": "markdown",
   "metadata": {},
   "source": [
    "The value for city and state is an id of a separate table itself, that can be looked up in the respective APIs."
   ]
  },
  {
   "cell_type": "code",
   "execution_count": null,
   "metadata": {
    "collapsed": false
   },
   "outputs": [],
   "source": [
    "cities_api = oldp_client.CitiesApi(api_client)\n",
    "states_api = oldp_client.StatesApi(api_client)\n",
    "\n",
    "print(\"City: {}\".format(cities_api.cities_read(courts[10].city)))\n",
    "print(\"State: {}\".format(states_api.states_read(courts[10].state)))"
   ]
  },
  {
   "cell_type": "markdown",
   "metadata": {},
   "source": [
    "Finally we learn how to do some visualizations. For that we first get all cases of one state. Then we plot the distribution of the cases on the different courts, as well as a wordcloud."
   ]
  },
  {
   "cell_type": "code",
   "execution_count": null,
   "metadata": {
    "collapsed": false,
    "scrolled": true
   },
   "outputs": [],
   "source": [
    "cases_api = oldp_client.CasesApi(api_client)\n",
    "\n",
    "def get_cases_for_state(state_id):\n",
    "    cases_per_court = {}\n",
    "    cases = []\n",
    "    \n",
    "    courts = courts_api.courts_list(state_id=state_id).results\n",
    "    for court in courts:\n",
    "        cases_list = cases_api.cases_list(court_id=court.id).results\n",
    "        cases_per_court[court.id] = cases_list\n",
    "        cases += cases_list\n",
    "        \n",
    "    return cases, cases_per_court"
   ]
  },
  {
   "cell_type": "code",
   "execution_count": null,
   "metadata": {
    "collapsed": true
   },
   "outputs": [],
   "source": [
    "import matplotlib.pylab as plt\n",
    "\n",
    "_, cases_per_court = get_cases_for_state(3)\n",
    "\n",
    "for court_id, cases in cases_per_court:\n",
    "    cases_per_court[court_id] = len(cases)\n",
    "\n",
    "# sort according to the number of cases\n",
    "sorted(cases_per_court.items(), operator.itemgetter(1))\n",
    "\n",
    "x, y = zip(*)\n",
    "plt.plot(x, y)\n",
    "plt.show()"
   ]
  },
  {
   "cell_type": "code",
   "execution_count": null,
   "metadata": {
    "collapsed": true
   },
   "outputs": [],
   "source": [
    "from bs4 import BeautifulSoup\n",
    "import matplotlib.pyplot as plt\n",
    "from wordcloud import WordCloud\n",
    "\n",
    "text = ''\n",
    "cases, _ = get_cases_for_state(3)\n",
    "for case in cases:\n",
    "    # get clean text from the HTML document\n",
    "    soup = BeautifulSoup(case.content)\n",
    "    text += soup.get_text().strip()\n",
    "\n",
    "wordcloud = WordCloud(max_font_size=60).generate(text)\n",
    "plt.figure(figsize=(16,12))\n",
    "plt.imshow(wordcloud, interpolation='bilinear')\n",
    "plt.axis(\"off\")\n",
    "plt.show()"
   ]
  },
  {
   "cell_type": "code",
   "execution_count": null,
   "metadata": {
    "collapsed": true
   },
   "outputs": [],
   "source": []
  }
 ],
 "metadata": {
  "kernelspec": {
   "display_name": "oldp-nb",
   "language": "python",
   "name": "oldp"
  },
  "language_info": {
   "codemirror_mode": {
    "name": "ipython",
    "version": 3
   },
   "file_extension": ".py",
   "mimetype": "text/x-python",
   "name": "python",
   "nbconvert_exporter": "python",
   "pygments_lexer": "ipython3",
   "version": "3.7.0"
  }
 },
 "nbformat": 4,
 "nbformat_minor": 1
}
